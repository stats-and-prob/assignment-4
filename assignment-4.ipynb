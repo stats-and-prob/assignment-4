{
 "cells": [
  {
   "cell_type": "code",
   "execution_count": 1,
   "metadata": {},
   "outputs": [],
   "source": [
    "import numpy as np\n",
    "import pandas as pd\n",
    "import statsmodels.api as sm\n",
    "import statsmodels.formula.api as smf\n",
    "import matplotlib.pyplot as plt"
   ]
  },
  {
   "cell_type": "code",
   "execution_count": 2,
   "metadata": {},
   "outputs": [],
   "source": [
    "PATH = '/Users/francis/Desktop/wines_properties.csv'\n",
    "df = pd.read_csv(PATH)"
   ]
  },
  {
   "cell_type": "code",
   "execution_count": 3,
   "metadata": {},
   "outputs": [
    {
     "data": {
      "text/html": [
       "<div>\n",
       "<style scoped>\n",
       "    .dataframe tbody tr th:only-of-type {\n",
       "        vertical-align: middle;\n",
       "    }\n",
       "\n",
       "    .dataframe tbody tr th {\n",
       "        vertical-align: top;\n",
       "    }\n",
       "\n",
       "    .dataframe thead th {\n",
       "        text-align: right;\n",
       "    }\n",
       "</style>\n",
       "<table border=\"1\" class=\"dataframe\">\n",
       "  <thead>\n",
       "    <tr style=\"text-align: right;\">\n",
       "      <th></th>\n",
       "      <th>Alcohol</th>\n",
       "      <th>Malic_Acid</th>\n",
       "      <th>Ash</th>\n",
       "      <th>Ash_Alcanity</th>\n",
       "      <th>Magnesium</th>\n",
       "      <th>Total_Phenols</th>\n",
       "      <th>Flavanoids</th>\n",
       "      <th>Nonflavanoid_Phenols</th>\n",
       "      <th>Proanthocyanins</th>\n",
       "      <th>Color_Intensity</th>\n",
       "      <th>Hue</th>\n",
       "      <th>OD280</th>\n",
       "      <th>Proline</th>\n",
       "      <th>Customer_Segment</th>\n",
       "    </tr>\n",
       "  </thead>\n",
       "  <tbody>\n",
       "    <tr>\n",
       "      <th>0</th>\n",
       "      <td>14.23</td>\n",
       "      <td>1.71</td>\n",
       "      <td>2.43</td>\n",
       "      <td>15.6</td>\n",
       "      <td>127</td>\n",
       "      <td>2.80</td>\n",
       "      <td>3.06</td>\n",
       "      <td>0.28</td>\n",
       "      <td>2.29</td>\n",
       "      <td>5.64</td>\n",
       "      <td>1.04</td>\n",
       "      <td>3.92</td>\n",
       "      <td>1065</td>\n",
       "      <td>1</td>\n",
       "    </tr>\n",
       "    <tr>\n",
       "      <th>1</th>\n",
       "      <td>13.20</td>\n",
       "      <td>1.78</td>\n",
       "      <td>2.14</td>\n",
       "      <td>11.2</td>\n",
       "      <td>100</td>\n",
       "      <td>2.65</td>\n",
       "      <td>2.76</td>\n",
       "      <td>0.26</td>\n",
       "      <td>1.28</td>\n",
       "      <td>4.38</td>\n",
       "      <td>1.05</td>\n",
       "      <td>3.40</td>\n",
       "      <td>1050</td>\n",
       "      <td>1</td>\n",
       "    </tr>\n",
       "    <tr>\n",
       "      <th>2</th>\n",
       "      <td>13.16</td>\n",
       "      <td>2.36</td>\n",
       "      <td>2.67</td>\n",
       "      <td>18.6</td>\n",
       "      <td>101</td>\n",
       "      <td>2.80</td>\n",
       "      <td>3.24</td>\n",
       "      <td>0.30</td>\n",
       "      <td>2.81</td>\n",
       "      <td>5.68</td>\n",
       "      <td>1.03</td>\n",
       "      <td>3.17</td>\n",
       "      <td>1185</td>\n",
       "      <td>1</td>\n",
       "    </tr>\n",
       "    <tr>\n",
       "      <th>3</th>\n",
       "      <td>14.37</td>\n",
       "      <td>1.95</td>\n",
       "      <td>2.50</td>\n",
       "      <td>16.8</td>\n",
       "      <td>113</td>\n",
       "      <td>3.85</td>\n",
       "      <td>3.49</td>\n",
       "      <td>0.24</td>\n",
       "      <td>2.18</td>\n",
       "      <td>7.80</td>\n",
       "      <td>0.86</td>\n",
       "      <td>3.45</td>\n",
       "      <td>1480</td>\n",
       "      <td>1</td>\n",
       "    </tr>\n",
       "    <tr>\n",
       "      <th>4</th>\n",
       "      <td>13.24</td>\n",
       "      <td>2.59</td>\n",
       "      <td>2.87</td>\n",
       "      <td>21.0</td>\n",
       "      <td>118</td>\n",
       "      <td>2.80</td>\n",
       "      <td>2.69</td>\n",
       "      <td>0.39</td>\n",
       "      <td>1.82</td>\n",
       "      <td>4.32</td>\n",
       "      <td>1.04</td>\n",
       "      <td>2.93</td>\n",
       "      <td>735</td>\n",
       "      <td>1</td>\n",
       "    </tr>\n",
       "  </tbody>\n",
       "</table>\n",
       "</div>"
      ],
      "text/plain": [
       "   Alcohol  Malic_Acid   Ash  Ash_Alcanity  Magnesium  Total_Phenols  \\\n",
       "0    14.23        1.71  2.43          15.6        127           2.80   \n",
       "1    13.20        1.78  2.14          11.2        100           2.65   \n",
       "2    13.16        2.36  2.67          18.6        101           2.80   \n",
       "3    14.37        1.95  2.50          16.8        113           3.85   \n",
       "4    13.24        2.59  2.87          21.0        118           2.80   \n",
       "\n",
       "   Flavanoids  Nonflavanoid_Phenols  Proanthocyanins  Color_Intensity   Hue  \\\n",
       "0        3.06                  0.28             2.29             5.64  1.04   \n",
       "1        2.76                  0.26             1.28             4.38  1.05   \n",
       "2        3.24                  0.30             2.81             5.68  1.03   \n",
       "3        3.49                  0.24             2.18             7.80  0.86   \n",
       "4        2.69                  0.39             1.82             4.32  1.04   \n",
       "\n",
       "   OD280  Proline  Customer_Segment  \n",
       "0   3.92     1065                 1  \n",
       "1   3.40     1050                 1  \n",
       "2   3.17     1185                 1  \n",
       "3   3.45     1480                 1  \n",
       "4   2.93      735                 1  "
      ]
     },
     "execution_count": 3,
     "metadata": {},
     "output_type": "execute_result"
    }
   ],
   "source": [
    "df.head()"
   ]
  },
  {
   "cell_type": "markdown",
   "metadata": {},
   "source": [
    "### Linear regression"
   ]
  },
  {
   "cell_type": "code",
   "execution_count": 4,
   "metadata": {},
   "outputs": [],
   "source": [
    "# formula\n",
    "formula = '''\n",
    "Alcohol ~ Malic_Acid + Ash + Ash_Alcanity + Magnesium + Total_Phenols + Flavanoids \n",
    "+ Nonflavanoid_Phenols + Proanthocyanins + Color_Intensity + Hue + OD280 + Proline\n",
    "'''\n",
    "# fit the model\n",
    "results = smf.ols(formula, data=df).fit()"
   ]
  },
  {
   "cell_type": "code",
   "execution_count": 5,
   "metadata": {},
   "outputs": [
    {
     "name": "stdout",
     "output_type": "stream",
     "text": [
      "                            OLS Regression Results                            \n",
      "==============================================================================\n",
      "Dep. Variable:                Alcohol   R-squared:                       0.594\n",
      "Model:                            OLS   Adj. R-squared:                  0.564\n",
      "Method:                 Least Squares   F-statistic:                     20.08\n",
      "Date:                Sun, 09 Dec 2018   Prob (F-statistic):           1.61e-26\n",
      "Time:                        16:45:37   Log-Likelihood:                -134.83\n",
      "No. Observations:                 178   AIC:                             295.7\n",
      "Df Residuals:                     165   BIC:                             337.0\n",
      "Df Model:                          12                                         \n",
      "Covariance Type:            nonrobust                                         \n",
      "========================================================================================\n",
      "                           coef    std err          t      P>|t|      [0.025      0.975]\n",
      "----------------------------------------------------------------------------------------\n",
      "Intercept               11.0718      0.596     18.567      0.000       9.894      12.249\n",
      "Malic_Acid               0.1316      0.045      2.907      0.004       0.042       0.221\n",
      "Ash                      0.1379      0.217      0.636      0.526      -0.290       0.566\n",
      "Ash_Alcanity            -0.0378      0.018     -2.122      0.035      -0.073      -0.003\n",
      "Magnesium             4.179e-06      0.003      0.001      0.999      -0.007       0.007\n",
      "Total_Phenols            0.0521      0.134      0.389      0.698      -0.212       0.317\n",
      "Flavanoids               0.0091      0.107      0.085      0.932      -0.202       0.220\n",
      "Nonflavanoid_Phenols    -0.2078      0.434     -0.479      0.632      -1.064       0.648\n",
      "Proanthocyanins         -0.1525      0.098     -1.552      0.122      -0.346       0.041\n",
      "Color_Intensity          0.1630      0.027      5.941      0.000       0.109       0.217\n",
      "Hue                      0.2169      0.281      0.772      0.441      -0.338       0.772\n",
      "OD280                    0.1608      0.110      1.466      0.145      -0.056       0.377\n",
      "Proline                  0.0010      0.000      5.081      0.000       0.001       0.001\n",
      "==============================================================================\n",
      "Omnibus:                        0.348   Durbin-Watson:                   1.998\n",
      "Prob(Omnibus):                  0.840   Jarque-Bera (JB):                0.121\n",
      "Skew:                           0.025   Prob(JB):                        0.941\n",
      "Kurtosis:                       3.118   Cond. No.                     1.27e+04\n",
      "==============================================================================\n",
      "\n",
      "Warnings:\n",
      "[1] Standard Errors assume that the covariance matrix of the errors is correctly specified.\n",
      "[2] The condition number is large, 1.27e+04. This might indicate that there are\n",
      "strong multicollinearity or other numerical problems.\n"
     ]
    }
   ],
   "source": [
    "print(results.summary())"
   ]
  },
  {
   "cell_type": "markdown",
   "metadata": {},
   "source": [
    "### Logistic regression"
   ]
  },
  {
   "cell_type": "code",
   "execution_count": 6,
   "metadata": {},
   "outputs": [
    {
     "name": "stdout",
     "output_type": "stream",
     "text": [
      "Optimization terminated successfully.\n",
      "         Current function value: 0.333006\n",
      "         Iterations 8\n"
     ]
    }
   ],
   "source": [
    "# create label\n",
    "df['alcohol_type'] = (df['Alcohol'] > np.percentile(df['Alcohol'], 75)).map(int)\n",
    "# formula\n",
    "formula_logit = '''\n",
    "alcohol_type ~ Malic_Acid + Ash + Ash_Alcanity + Magnesium + Total_Phenols + Flavanoids \n",
    "+ Nonflavanoid_Phenols + Proanthocyanins + Color_Intensity + Hue + OD280 + Proline\n",
    "'''\n",
    "# fit the logistic regression model\n",
    "results_logit = sm.Logit.from_formula(formula_logit, data=df).fit()"
   ]
  },
  {
   "cell_type": "code",
   "execution_count": 7,
   "metadata": {},
   "outputs": [
    {
     "name": "stdout",
     "output_type": "stream",
     "text": [
      "                           Logit Regression Results                           \n",
      "==============================================================================\n",
      "Dep. Variable:           alcohol_type   No. Observations:                  178\n",
      "Model:                          Logit   Df Residuals:                      165\n",
      "Method:                           MLE   Df Model:                           12\n",
      "Date:                Sun, 09 Dec 2018   Pseudo R-squ.:                  0.4110\n",
      "Time:                        16:45:37   Log-Likelihood:                -59.275\n",
      "converged:                       True   LL-Null:                       -100.64\n",
      "                                        LLR p-value:                 1.240e-12\n",
      "========================================================================================\n",
      "                           coef    std err          z      P>|z|      [0.025      0.975]\n",
      "----------------------------------------------------------------------------------------\n",
      "Intercept              -15.7261      4.579     -3.435      0.001     -24.700      -6.752\n",
      "Malic_Acid               0.6820      0.302      2.259      0.024       0.090       1.274\n",
      "Ash                      0.5720      1.321      0.433      0.665      -2.018       3.162\n",
      "Ash_Alcanity            -0.1409      0.105     -1.339      0.181      -0.347       0.065\n",
      "Magnesium               -0.0151      0.022     -0.680      0.496      -0.059       0.028\n",
      "Total_Phenols            1.1301      0.983      1.150      0.250      -0.796       3.056\n",
      "Flavanoids              -0.3968      0.723     -0.549      0.583      -1.814       1.020\n",
      "Nonflavanoid_Phenols     2.5818      3.118      0.828      0.408      -3.530       8.693\n",
      "Proanthocyanins         -0.3252      0.694     -0.469      0.639      -1.685       1.034\n",
      "Color_Intensity          0.7107      0.214      3.320      0.001       0.291       1.130\n",
      "Hue                      3.8728      2.127      1.820      0.069      -0.297       8.043\n",
      "OD280                    1.3810      0.747      1.850      0.064      -0.082       2.844\n",
      "Proline                  0.0026      0.001      2.213      0.027       0.000       0.005\n",
      "========================================================================================\n"
     ]
    }
   ],
   "source": [
    "print(results_logit.summary())"
   ]
  },
  {
   "cell_type": "markdown",
   "metadata": {},
   "source": [
    "### Logistic regression with PCA:"
   ]
  },
  {
   "cell_type": "code",
   "execution_count": 8,
   "metadata": {},
   "outputs": [],
   "source": [
    "# select every column except 'Alcohol', 'alcohol_type', and 'Customer_Segment':\n",
    "regressors = df.drop(['Alcohol', 'alcohol_type', 'Customer_Segment'], axis=1)\n",
    "# PCA transformation on the data\n",
    "pca = sm.PCA(data=regressors)"
   ]
  },
  {
   "cell_type": "code",
   "execution_count": 9,
   "metadata": {},
   "outputs": [
    {
     "data": {
      "image/png": "[encoded data removed]",
      "text/plain": [
       "<Figure size 432x288 with 1 Axes>"
      ]
     },
     "metadata": {
      "needs_background": "light"
     },
     "output_type": "display_data"
    }
   ],
   "source": [
    "# plot the variance explained\n",
    "eigenvalue_sum = np.sum(pca.eigenvals)\n",
    "sorted_eigenvalues = sorted(pca.eigenvals, reverse=True)\n",
    "variance_explained = [(i / eigenvalue_sum)*100 for i in sorted_eigenvalues]\n",
    "plt.plot(1 / np.cumsum(variance_explained), color='red')\n",
    "plt.show()"
   ]
  },
  {
   "cell_type": "code",
   "execution_count": 10,
   "metadata": {},
   "outputs": [],
   "source": [
    "sm.PCA?"
   ]
  },
  {
   "cell_type": "markdown",
   "metadata": {},
   "source": [
    "From the above plot, we decide to select the first 4 principal components as regressors."
   ]
  },
  {
   "cell_type": "code",
   "execution_count": 11,
   "metadata": {},
   "outputs": [
    {
     "name": "stdout",
     "output_type": "stream",
     "text": [
      "Optimization terminated successfully.\n",
      "         Current function value: 0.395535\n",
      "         Iterations 7\n"
     ]
    }
   ],
   "source": [
    "# Logistic regression with principal components:\n",
    "\n",
    "# prepare the data table\n",
    "pca_regression_table  = pca.factors.loc[:, ('comp_00', 'comp_01', 'comp_02', 'comp_03')]\n",
    "pca_regression_table['alcohol_type'] = df['alcohol_type']\n",
    "# write the formula\n",
    "formula_pca = 'alcohol_type ~ comp_00 + comp_01 + comp_02 + comp_03'\n",
    "# fit the logistic regression model\n",
    "results_pca = sm.Logit.from_formula(formula_pca, data=pca_regression_table).fit()"
   ]
  },
  {
   "cell_type": "code",
   "execution_count": 12,
   "metadata": {},
   "outputs": [
    {
     "name": "stdout",
     "output_type": "stream",
     "text": [
      "                           Logit Regression Results                           \n",
      "==============================================================================\n",
      "Dep. Variable:           alcohol_type   No. Observations:                  178\n",
      "Model:                          Logit   Df Residuals:                      173\n",
      "Method:                           MLE   Df Model:                            4\n",
      "Date:                Sun, 09 Dec 2018   Pseudo R-squ.:                  0.3004\n",
      "Time:                        16:45:38   Log-Likelihood:                -70.405\n",
      "converged:                       True   LL-Null:                       -100.64\n",
      "                                        LLR p-value:                 2.308e-12\n",
      "==============================================================================\n",
      "                 coef    std err          z      P>|z|      [0.025      0.975]\n",
      "------------------------------------------------------------------------------\n",
      "Intercept     -1.6548      0.268     -6.175      0.000      -2.180      -1.130\n",
      "comp_00      -12.4494      2.852     -4.366      0.000     -18.038      -6.860\n",
      "comp_01       17.3972      3.665      4.747      0.000      10.215      24.580\n",
      "comp_02        7.2906      3.076      2.370      0.018       1.261      13.320\n",
      "comp_03        1.1668      2.925      0.399      0.690      -4.566       6.899\n",
      "==============================================================================\n"
     ]
    }
   ],
   "source": [
    "print(results_pca.summary())"
   ]
  },
  {
   "cell_type": "markdown",
   "metadata": {},
   "source": [
    "----\n",
    "### Model Performance\n",
    "As we can see from the summary table of the OLS regression, the $R^2$ is $0.594$.\n",
    "\n",
    "For comparing the accuracy of prediction for the two approaches (no PCA vs. PCA) of logistic regression, we do two things:\n",
    "\n",
    "* Draw ROC curves of the two models and compare the area under the ROC curves (AUC).\n",
    "* Calculate accuracy of the two models using optimal thresholds\n"
   ]
  },
  {
   "cell_type": "code",
   "execution_count": 13,
   "metadata": {},
   "outputs": [],
   "source": [
    "from sklearn.metrics import roc_curve, auc, accuracy_score"
   ]
  },
  {
   "cell_type": "code",
   "execution_count": 14,
   "metadata": {},
   "outputs": [],
   "source": [
    "# ROC curve and AUC score without PCA\n",
    "fpr, tpr, thresholds = roc_curve(df.alcohol_type, results_logit.predict())\n",
    "roc_auc = auc(fpr,tpr)\n",
    "\n",
    "# ROC curve and AUC score with PCA\n",
    "fpr_pca, tpr_pca, thresholds_pca = roc_curve(df.alcohol_type, results_pca.predict())\n",
    "roc_auc_pca = auc(fpr_pca,tpr_pca)"
   ]
  },
  {
   "cell_type": "code",
   "execution_count": 15,
   "metadata": {},
   "outputs": [
    {
     "data": {
      "image/png": "[encoded data removed]",
      "text/plain": [
       "<Figure size 432x288 with 1 Axes>"
      ]
     },
     "metadata": {
      "needs_background": "light"
     },
     "output_type": "display_data"
    }
   ],
   "source": [
    "# Plot the two ROC curves\n",
    "plt.plot(fpr, tpr, color='magenta',\n",
    "         lw=2, label='Without PCA (area = %0.4f)' % roc_auc)\n",
    "\n",
    "plt.plot(fpr_pca, tpr_pca, color='darkblue',\n",
    "         lw=2, label='With PCA (area = %0.4f)' % roc_auc_pca)\n",
    "\n",
    "plt.plot([0, 1], [0, 1], color='tomato', lw=2, linestyle='--')\n",
    "plt.xlim([0.0, 1.0])\n",
    "plt.ylim([0.0, 1.05])\n",
    "plt.xlabel('False Positive Rate')\n",
    "plt.ylabel('True Positive Rate')\n",
    "plt.legend(loc=\"lower right\")\n",
    "plt.title('Receiver Operating Characteristic (ROC)')\n",
    "plt.show()"
   ]
  },
  {
   "cell_type": "markdown",
   "metadata": {},
   "source": [
    "With PCA, the model performs even worse....."
   ]
  },
  {
   "cell_type": "code",
   "execution_count": null,
   "metadata": {},
   "outputs": [],
   "source": []
  }
 ],
 "metadata": {
  "kernelspec": {
   "display_name": "Python 3",
   "language": "python",
   "name": "python3"
  },
  "language_info": {
   "codemirror_mode": {
    "name": "ipython",
    "version": 3
   },
   "file_extension": ".py",
   "mimetype": "text/x-python",
   "name": "python",
   "nbconvert_exporter": "python",
   "pygments_lexer": "ipython3",
   "version": "3.6.6"
  }
 },
 "nbformat": 4,
 "nbformat_minor": 2
}
